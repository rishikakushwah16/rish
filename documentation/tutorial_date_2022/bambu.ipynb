{
  "cells": [
    {
      "cell_type": "markdown",
      "metadata": {
        "id": "oklFNX-vsHdr"
      },
      "source": [
        "# **Initial setup**\n",
        "\n",
        "Install Bambu and required packages:"
      ]
    },
    {
      "cell_type": "code",
      "execution_count": 1,
      "metadata": {
        "id": "LY7UwXr6sHds",
        "vscode": {
          "languageId": "python"
        },
        "outputId": "57146e6c-580a-4f96-9104-0fa909b2535e",
        "colab": {
          "base_uri": "https://localhost:8080/"
        }
      },
      "outputs": [
        {
          "output_type": "stream",
          "name": "stdout",
          "text": [
            "Warning: apt-key is deprecated. Manage keyring files in trusted.gpg.d instead (see apt-key(8)).\n",
            "Executing: /tmp/apt-key-gpghome.CbhEqu21gp/gpg.1.sh --keyserver keyserver.ubuntu.com --recv-keys A1715D88E1DF1F24\n",
            "gpg: key A1715D88E1DF1F24: public key \"Launchpad PPA for Ubuntu Git Maintainers\" imported\n",
            "gpg: Total number processed: 1\n",
            "gpg:               imported: 1\n",
            "Get:1 https://cloud.r-project.org/bin/linux/ubuntu jammy-cran40/ InRelease [3,626 B]\n",
            "Hit:2 https://developer.download.nvidia.com/compute/cuda/repos/ubuntu2204/x86_64  InRelease\n",
            "Get:3 http://ppa.launchpad.net/git-core/ppa/ubuntu jammy InRelease [23.8 kB]\n",
            "Hit:4 http://archive.ubuntu.com/ubuntu jammy InRelease\n",
            "Get:5 http://security.ubuntu.com/ubuntu jammy-security InRelease [110 kB]\n",
            "Get:6 http://archive.ubuntu.com/ubuntu jammy-updates InRelease [119 kB]\n",
            "Hit:7 https://ppa.launchpadcontent.net/c2d4u.team/c2d4u4.0+/ubuntu jammy InRelease\n",
            "Hit:8 https://ppa.launchpadcontent.net/deadsnakes/ppa/ubuntu jammy InRelease\n",
            "Hit:9 https://ppa.launchpadcontent.net/graphics-drivers/ppa/ubuntu jammy InRelease\n",
            "Hit:10 http://archive.ubuntu.com/ubuntu jammy-backports InRelease\n",
            "Hit:11 https://ppa.launchpadcontent.net/ubuntugis/ppa/ubuntu jammy InRelease\n",
            "Get:12 http://ppa.launchpad.net/git-core/ppa/ubuntu jammy/main amd64 Packages [2,969 B]\n",
            "Get:13 http://security.ubuntu.com/ubuntu jammy-security/universe amd64 Packages [1,083 kB]\n",
            "Get:14 http://security.ubuntu.com/ubuntu jammy-security/main amd64 Packages [1,845 kB]\n",
            "Get:15 http://archive.ubuntu.com/ubuntu jammy-updates/main amd64 Packages [2,118 kB]\n",
            "Get:16 http://archive.ubuntu.com/ubuntu jammy-updates/universe amd64 Packages [1,374 kB]\n",
            "Fetched 6,680 kB in 8s (845 kB/s)\n",
            "Reading package lists... Done\n",
            "W: http://ppa.launchpad.net/git-core/ppa/ubuntu/dists/jammy/InRelease: Key is stored in legacy trusted.gpg keyring (/etc/apt/trusted.gpg), see the DEPRECATION section in apt-key(8) for details.\n",
            "Reading package lists... Done\n",
            "Building dependency tree... Done\n",
            "Reading state information... Done\n",
            "build-essential is already the newest version (12.9ubuntu3).\n",
            "wget is already the newest version (1.21.2-2ubuntu1).\n",
            "ca-certificates is already the newest version (20230311ubuntu0.22.04.1).\n",
            "The following additional packages will be installed:\n",
            "  gcc-11-multilib git-man lib32asan6 lib32atomic1 lib32gcc-11-dev lib32gomp1 lib32itm1\n",
            "  lib32quadmath0 lib32ubsan1 libc6-dev-i386 libc6-dev-x32 libc6-x32 libx32asan6 libx32atomic1\n",
            "  libx32gcc-11-dev libx32gcc-s1 libx32gomp1 libx32itm1 libx32quadmath0 libx32stdc++6 libx32ubsan1\n",
            "Suggested packages:\n",
            "  gettext-base git-daemon-run | git-daemon-sysvinit git-doc git-email git-gui gitk gitweb git-cvs\n",
            "  git-mediawiki git-svn gtkwave\n",
            "Recommended packages:\n",
            "  libsystemc-dev\n",
            "The following NEW packages will be installed:\n",
            "  gcc-11-multilib gcc-multilib iverilog lib32asan6 lib32atomic1 lib32gcc-11-dev lib32gomp1\n",
            "  lib32itm1 lib32quadmath0 lib32ubsan1 libc6-dev-i386 libc6-dev-x32 libc6-x32 libx32asan6\n",
            "  libx32atomic1 libx32gcc-11-dev libx32gcc-s1 libx32gomp1 libx32itm1 libx32quadmath0 libx32stdc++6\n",
            "  libx32ubsan1 verilator\n",
            "The following packages will be upgraded:\n",
            "  git git-man\n",
            "2 upgraded, 23 newly installed, 0 to remove and 45 not upgraded.\n",
            "Need to get 33.6 MB of archives.\n",
            "After this operation, 108 MB of additional disk space will be used.\n",
            "Get:1 http://archive.ubuntu.com/ubuntu jammy-updates/main amd64 libc6-dev-i386 amd64 2.35-0ubuntu3.7 [1,445 kB]\n",
            "Get:2 http://ppa.launchpad.net/git-core/ppa/ubuntu jammy/main amd64 git amd64 1:2.43.2-0ppa1~ubuntu22.04.1 [6,440 kB]\n",
            "Get:3 http://archive.ubuntu.com/ubuntu jammy-updates/main amd64 libc6-x32 amd64 2.35-0ubuntu3.7 [2,978 kB]\n",
            "Get:4 http://archive.ubuntu.com/ubuntu jammy-updates/main amd64 libc6-dev-x32 amd64 2.35-0ubuntu3.7 [1,632 kB]\n",
            "Get:5 http://archive.ubuntu.com/ubuntu jammy-updates/main amd64 libx32gcc-s1 amd64 12.3.0-1ubuntu1~22.04 [54.0 kB]\n",
            "Get:6 http://archive.ubuntu.com/ubuntu jammy-updates/main amd64 lib32gomp1 amd64 12.3.0-1ubuntu1~22.04 [133 kB]\n",
            "Get:7 http://archive.ubuntu.com/ubuntu jammy-updates/main amd64 libx32gomp1 amd64 12.3.0-1ubuntu1~22.04 [127 kB]\n",
            "Get:8 http://archive.ubuntu.com/ubuntu jammy-updates/main amd64 lib32itm1 amd64 12.3.0-1ubuntu1~22.04 [32.0 kB]\n",
            "Get:9 http://archive.ubuntu.com/ubuntu jammy-updates/main amd64 libx32itm1 amd64 12.3.0-1ubuntu1~22.04 [30.2 kB]\n",
            "Get:10 http://archive.ubuntu.com/ubuntu jammy-updates/main amd64 lib32atomic1 amd64 12.3.0-1ubuntu1~22.04 [8,500 B]\n",
            "Get:11 http://archive.ubuntu.com/ubuntu jammy-updates/main amd64 libx32atomic1 amd64 12.3.0-1ubuntu1~22.04 [10.2 kB]\n",
            "Get:12 http://archive.ubuntu.com/ubuntu jammy-updates/main amd64 lib32asan6 amd64 11.4.0-1ubuntu1~22.04 [2,154 kB]\n",
            "Get:13 http://archive.ubuntu.com/ubuntu jammy-updates/main amd64 libx32asan6 amd64 11.4.0-1ubuntu1~22.04 [2,128 kB]\n",
            "Get:14 http://archive.ubuntu.com/ubuntu jammy-updates/main amd64 lib32ubsan1 amd64 12.3.0-1ubuntu1~22.04 [959 kB]\n",
            "Get:15 http://archive.ubuntu.com/ubuntu jammy-updates/main amd64 libx32stdc++6 amd64 12.3.0-1ubuntu1~22.04 [682 kB]\n",
            "Get:16 http://archive.ubuntu.com/ubuntu jammy-updates/main amd64 libx32ubsan1 amd64 12.3.0-1ubuntu1~22.04 [963 kB]\n",
            "Get:17 http://archive.ubuntu.com/ubuntu jammy-updates/main amd64 lib32quadmath0 amd64 12.3.0-1ubuntu1~22.04 [244 kB]\n",
            "Get:18 http://archive.ubuntu.com/ubuntu jammy-updates/main amd64 libx32quadmath0 amd64 12.3.0-1ubuntu1~22.04 [156 kB]\n",
            "Get:19 http://archive.ubuntu.com/ubuntu jammy-updates/main amd64 lib32gcc-11-dev amd64 11.4.0-1ubuntu1~22.04 [2,339 kB]\n",
            "Get:20 http://archive.ubuntu.com/ubuntu jammy-updates/main amd64 libx32gcc-11-dev amd64 11.4.0-1ubuntu1~22.04 [2,107 kB]\n",
            "Get:21 http://archive.ubuntu.com/ubuntu jammy-updates/main amd64 gcc-11-multilib amd64 11.4.0-1ubuntu1~22.04 [876 B]\n",
            "Get:22 http://archive.ubuntu.com/ubuntu jammy/main amd64 gcc-multilib amd64 4:11.2.0-1ubuntu1 [1,382 B]\n",
            "Get:23 http://archive.ubuntu.com/ubuntu jammy/universe amd64 iverilog amd64 11.0-1.1 [2,130 kB]\n",
            "Get:24 http://archive.ubuntu.com/ubuntu jammy/universe amd64 verilator amd64 4.038-1 [4,732 kB]\n",
            "Get:25 http://ppa.launchpad.net/git-core/ppa/ubuntu jammy/main amd64 git-man all 1:2.43.2-0ppa1~ubuntu22.04.1 [2,139 kB]\n",
            "Fetched 33.6 MB in 1s (29.0 MB/s)\n",
            "Selecting previously unselected package libc6-dev-i386.\n",
            "(Reading database ... 121918 files and directories currently installed.)\n",
            "Preparing to unpack .../00-libc6-dev-i386_2.35-0ubuntu3.7_amd64.deb ...\n",
            "Unpacking libc6-dev-i386 (2.35-0ubuntu3.7) ...\n",
            "Selecting previously unselected package libc6-x32.\n",
            "Preparing to unpack .../01-libc6-x32_2.35-0ubuntu3.7_amd64.deb ...\n",
            "Unpacking libc6-x32 (2.35-0ubuntu3.7) ...\n",
            "Selecting previously unselected package libc6-dev-x32.\n",
            "Preparing to unpack .../02-libc6-dev-x32_2.35-0ubuntu3.7_amd64.deb ...\n",
            "Unpacking libc6-dev-x32 (2.35-0ubuntu3.7) ...\n",
            "Selecting previously unselected package libx32gcc-s1.\n",
            "Preparing to unpack .../03-libx32gcc-s1_12.3.0-1ubuntu1~22.04_amd64.deb ...\n",
            "Unpacking libx32gcc-s1 (12.3.0-1ubuntu1~22.04) ...\n",
            "Selecting previously unselected package lib32gomp1.\n",
            "Preparing to unpack .../04-lib32gomp1_12.3.0-1ubuntu1~22.04_amd64.deb ...\n",
            "Unpacking lib32gomp1 (12.3.0-1ubuntu1~22.04) ...\n",
            "Selecting previously unselected package libx32gomp1.\n",
            "Preparing to unpack .../05-libx32gomp1_12.3.0-1ubuntu1~22.04_amd64.deb ...\n",
            "Unpacking libx32gomp1 (12.3.0-1ubuntu1~22.04) ...\n",
            "Selecting previously unselected package lib32itm1.\n",
            "Preparing to unpack .../06-lib32itm1_12.3.0-1ubuntu1~22.04_amd64.deb ...\n",
            "Unpacking lib32itm1 (12.3.0-1ubuntu1~22.04) ...\n",
            "Selecting previously unselected package libx32itm1.\n",
            "Preparing to unpack .../07-libx32itm1_12.3.0-1ubuntu1~22.04_amd64.deb ...\n",
            "Unpacking libx32itm1 (12.3.0-1ubuntu1~22.04) ...\n",
            "Selecting previously unselected package lib32atomic1.\n",
            "Preparing to unpack .../08-lib32atomic1_12.3.0-1ubuntu1~22.04_amd64.deb ...\n",
            "Unpacking lib32atomic1 (12.3.0-1ubuntu1~22.04) ...\n",
            "Selecting previously unselected package libx32atomic1.\n",
            "Preparing to unpack .../09-libx32atomic1_12.3.0-1ubuntu1~22.04_amd64.deb ...\n",
            "Unpacking libx32atomic1 (12.3.0-1ubuntu1~22.04) ...\n",
            "Selecting previously unselected package lib32asan6.\n",
            "Preparing to unpack .../10-lib32asan6_11.4.0-1ubuntu1~22.04_amd64.deb ...\n",
            "Unpacking lib32asan6 (11.4.0-1ubuntu1~22.04) ...\n",
            "Selecting previously unselected package libx32asan6.\n",
            "Preparing to unpack .../11-libx32asan6_11.4.0-1ubuntu1~22.04_amd64.deb ...\n",
            "Unpacking libx32asan6 (11.4.0-1ubuntu1~22.04) ...\n",
            "Selecting previously unselected package lib32ubsan1.\n",
            "Preparing to unpack .../12-lib32ubsan1_12.3.0-1ubuntu1~22.04_amd64.deb ...\n",
            "Unpacking lib32ubsan1 (12.3.0-1ubuntu1~22.04) ...\n",
            "Selecting previously unselected package libx32stdc++6.\n",
            "Preparing to unpack .../13-libx32stdc++6_12.3.0-1ubuntu1~22.04_amd64.deb ...\n",
            "Unpacking libx32stdc++6 (12.3.0-1ubuntu1~22.04) ...\n",
            "Selecting previously unselected package libx32ubsan1.\n",
            "Preparing to unpack .../14-libx32ubsan1_12.3.0-1ubuntu1~22.04_amd64.deb ...\n",
            "Unpacking libx32ubsan1 (12.3.0-1ubuntu1~22.04) ...\n",
            "Selecting previously unselected package lib32quadmath0.\n",
            "Preparing to unpack .../15-lib32quadmath0_12.3.0-1ubuntu1~22.04_amd64.deb ...\n",
            "Unpacking lib32quadmath0 (12.3.0-1ubuntu1~22.04) ...\n",
            "Selecting previously unselected package libx32quadmath0.\n",
            "Preparing to unpack .../16-libx32quadmath0_12.3.0-1ubuntu1~22.04_amd64.deb ...\n",
            "Unpacking libx32quadmath0 (12.3.0-1ubuntu1~22.04) ...\n",
            "Selecting previously unselected package lib32gcc-11-dev.\n",
            "Preparing to unpack .../17-lib32gcc-11-dev_11.4.0-1ubuntu1~22.04_amd64.deb ...\n",
            "Unpacking lib32gcc-11-dev (11.4.0-1ubuntu1~22.04) ...\n",
            "Selecting previously unselected package libx32gcc-11-dev.\n",
            "Preparing to unpack .../18-libx32gcc-11-dev_11.4.0-1ubuntu1~22.04_amd64.deb ...\n",
            "Unpacking libx32gcc-11-dev (11.4.0-1ubuntu1~22.04) ...\n",
            "Selecting previously unselected package gcc-11-multilib.\n",
            "Preparing to unpack .../19-gcc-11-multilib_11.4.0-1ubuntu1~22.04_amd64.deb ...\n",
            "Unpacking gcc-11-multilib (11.4.0-1ubuntu1~22.04) ...\n",
            "Selecting previously unselected package gcc-multilib.\n",
            "Preparing to unpack .../20-gcc-multilib_4%3a11.2.0-1ubuntu1_amd64.deb ...\n",
            "Unpacking gcc-multilib (4:11.2.0-1ubuntu1) ...\n",
            "Preparing to unpack .../21-git_1%3a2.43.2-0ppa1~ubuntu22.04.1_amd64.deb ...\n",
            "Unpacking git (1:2.43.2-0ppa1~ubuntu22.04.1) over (1:2.34.1-1ubuntu1.10) ...\n",
            "Preparing to unpack .../22-git-man_1%3a2.43.2-0ppa1~ubuntu22.04.1_all.deb ...\n",
            "Unpacking git-man (1:2.43.2-0ppa1~ubuntu22.04.1) over (1:2.34.1-1ubuntu1.10) ...\n",
            "Selecting previously unselected package iverilog.\n",
            "Preparing to unpack .../23-iverilog_11.0-1.1_amd64.deb ...\n",
            "Unpacking iverilog (11.0-1.1) ...\n",
            "Selecting previously unselected package verilator.\n",
            "Preparing to unpack .../24-verilator_4.038-1_amd64.deb ...\n",
            "Unpacking verilator (4.038-1) ...\n",
            "Setting up verilator (4.038-1) ...\n",
            "Setting up libc6-dev-i386 (2.35-0ubuntu3.7) ...\n",
            "Setting up lib32itm1 (12.3.0-1ubuntu1~22.04) ...\n",
            "Setting up lib32ubsan1 (12.3.0-1ubuntu1~22.04) ...\n",
            "Setting up libc6-x32 (2.35-0ubuntu3.7) ...\n",
            "Setting up libc6-dev-x32 (2.35-0ubuntu3.7) ...\n",
            "Setting up iverilog (11.0-1.1) ...\n",
            "Setting up lib32gomp1 (12.3.0-1ubuntu1~22.04) ...\n",
            "Setting up libx32gomp1 (12.3.0-1ubuntu1~22.04) ...\n",
            "Setting up lib32asan6 (11.4.0-1ubuntu1~22.04) ...\n",
            "Setting up lib32quadmath0 (12.3.0-1ubuntu1~22.04) ...\n",
            "Setting up git-man (1:2.43.2-0ppa1~ubuntu22.04.1) ...\n",
            "Setting up libx32quadmath0 (12.3.0-1ubuntu1~22.04) ...\n",
            "Setting up lib32atomic1 (12.3.0-1ubuntu1~22.04) ...\n",
            "Setting up libx32atomic1 (12.3.0-1ubuntu1~22.04) ...\n",
            "Setting up libx32gcc-s1 (12.3.0-1ubuntu1~22.04) ...\n",
            "Setting up libx32itm1 (12.3.0-1ubuntu1~22.04) ...\n",
            "Setting up libx32asan6 (11.4.0-1ubuntu1~22.04) ...\n",
            "Setting up git (1:2.43.2-0ppa1~ubuntu22.04.1) ...\n",
            "Setting up libx32stdc++6 (12.3.0-1ubuntu1~22.04) ...\n",
            "Setting up libx32ubsan1 (12.3.0-1ubuntu1~22.04) ...\n",
            "Setting up libx32gcc-11-dev (11.4.0-1ubuntu1~22.04) ...\n",
            "Setting up lib32gcc-11-dev (11.4.0-1ubuntu1~22.04) ...\n",
            "Setting up gcc-11-multilib (11.4.0-1ubuntu1~22.04) ...\n",
            "Setting up gcc-multilib (4:11.2.0-1ubuntu1) ...\n",
            "Processing triggers for man-db (2.10.2-1) ...\n",
            "Processing triggers for libc-bin (2.35-0ubuntu3.4) ...\n",
            "/sbin/ldconfig.real: /usr/local/lib/libtbbbind_2_5.so.3 is not a symbolic link\n",
            "\n",
            "/sbin/ldconfig.real: /usr/local/lib/libtbbmalloc.so.2 is not a symbolic link\n",
            "\n",
            "/sbin/ldconfig.real: /usr/local/lib/libtbbbind.so.3 is not a symbolic link\n",
            "\n",
            "/sbin/ldconfig.real: /usr/local/lib/libtbbmalloc_proxy.so.2 is not a symbolic link\n",
            "\n",
            "/sbin/ldconfig.real: /usr/local/lib/libtbb.so.12 is not a symbolic link\n",
            "\n",
            "/sbin/ldconfig.real: /usr/local/lib/libtbbbind_2_0.so.3 is not a symbolic link\n",
            "\n",
            "--2024-05-15 20:03:26--  https://release.bambuhls.eu/appimage/bambu-latest.AppImage\n",
            "Resolving release.bambuhls.eu (release.bambuhls.eu)... 131.175.120.155\n",
            "Connecting to release.bambuhls.eu (release.bambuhls.eu)|131.175.120.155|:443... connected.\n",
            "HTTP request sent, awaiting response... 200 OK\n",
            "Length: 1648288960 (1.5G) [application/octet-stream]\n",
            "Saving to: ‘bambu-latest.AppImage’\n",
            "\n",
            "bambu-latest.AppIma 100%[===================>]   1.53G  26.8MB/s    in 60s     \n",
            "\n",
            "2024-05-15 20:04:26 (26.4 MB/s) - ‘bambu-latest.AppImage’ saved [1648288960/1648288960]\n",
            "\n",
            "Cloning into 'PandA-bambu'...\n",
            "remote: Enumerating objects: 798, done.\u001b[K\n",
            "remote: Counting objects: 100% (798/798), done.\u001b[K\n",
            "remote: Compressing objects: 100% (695/695), done.\u001b[K\n",
            "remote: Total 798 (delta 36), reused 626 (delta 32), pack-reused 0\u001b[K\n",
            "Receiving objects: 100% (798/798), 270.54 KiB | 6.29 MiB/s, done.\n",
            "Resolving deltas: 100% (36/36), done.\n",
            "remote: Enumerating objects: 23, done.\u001b[K\n",
            "remote: Counting objects: 100% (23/23), done.\u001b[K\n",
            "remote: Compressing objects: 100% (19/19), done.\u001b[K\n",
            "remote: Total 23 (delta 1), reused 15 (delta 0), pack-reused 0\u001b[K\n",
            "Receiving objects: 100% (23/23), 114.61 KiB | 4.78 MiB/s, done.\n",
            "Resolving deltas: 100% (1/1), done.\n",
            "/content/PandA-bambu\n",
            "remote: Enumerating objects: 94, done.\u001b[K\n",
            "remote: Counting objects: 100% (94/94), done.\u001b[K\n",
            "remote: Compressing objects: 100% (82/82), done.\u001b[K\n",
            "remote: Total 94 (delta 19), reused 59 (delta 11), pack-reused 0\u001b[K\n",
            "Receiving objects: 100% (94/94), 755.24 KiB | 4.15 MiB/s, done.\n",
            "Resolving deltas: 100% (19/19), done.\n",
            "/content\n"
          ]
        }
      ],
      "source": [
        "!echo \"deb http://ppa.launchpad.net/git-core/ppa/ubuntu $(cat /etc/os-release | grep UBUNTU_CODENAME | sed 's/.*=//g') main\" >> /etc/apt/sources.list.d/git-core.list\n",
        "!apt-key adv --keyserver keyserver.ubuntu.com --recv-keys A1715D88E1DF1F24\n",
        "!apt-get update\n",
        "!apt-get install -y --no-install-recommends build-essential ca-certificates gcc-multilib git iverilog verilator wget\n",
        "!wget https://release.bambuhls.eu/appimage/bambu-latest.AppImage\n",
        "!chmod +x bambu-*.AppImage\n",
        "!ln -sf $PWD/bambu-*.AppImage /bin/bambu\n",
        "!ln -sf $PWD/bambu-*.AppImage /bin/spider\n",
        "!ln -sf $PWD/bambu-*.AppImage /bin/tree-panda-gcc\n",
        "!ln -sf $PWD/bambu-*.AppImage /bin/clang-12\n",
        "!git clone --depth 1 --filter=blob:none --sparse https://github.com/ferrandi/PandA-bambu.git\n",
        "%cd PandA-bambu\n",
        "!git sparse-checkout set documentation/tutorial_date_2022\n",
        "%cd ..\n",
        "!mv PandA-bambu/documentation/tutorial_date_2022/ bambu-tutorial"
      ]
    },
    {
      "cell_type": "markdown",
      "metadata": {
        "id": "Hnro3SxasHdt"
      },
      "source": [
        "# **Productive HLS with Bambu**\n"
      ]
    },
    {
      "cell_type": "markdown",
      "metadata": {
        "id": "zg-zYplysHdu"
      },
      "source": [
        "## **Exercise 1**\n",
        "\n",
        "Have a look at the C code in /content/bambu-tutorial/01-introduction/Exercise1/icrc.c\n",
        "\n",
        "Launch bambu:"
      ]
    },
    {
      "cell_type": "code",
      "execution_count": null,
      "metadata": {
        "id": "YZfAAWYJsHdu",
        "vscode": {
          "languageId": "python"
        }
      },
      "outputs": [],
      "source": [
        "%cd /content/bambu-tutorial/01-introduction/Exercise1\n",
        "!bambu icrc.c --top-fname=icrc1"
      ]
    },
    {
      "cell_type": "markdown",
      "metadata": {
        "id": "q1q81kyFsHdu"
      },
      "source": [
        "Inspect the generated Verilog file in the explorer tab on the left (icrc1.v)\n"
      ]
    },
    {
      "cell_type": "markdown",
      "metadata": {
        "id": "Jv6Q8vi-sHdu"
      },
      "source": [
        "Take a brief look at the available Bambu options:\n"
      ]
    },
    {
      "cell_type": "code",
      "execution_count": null,
      "metadata": {
        "id": "WYzxMTX8sHdu",
        "vscode": {
          "languageId": "python"
        }
      },
      "outputs": [],
      "source": [
        "!bambu --help"
      ]
    },
    {
      "cell_type": "markdown",
      "metadata": {
        "id": "2TDCFw4osHdu"
      },
      "source": [
        "Modify the command line to change the amount of debug information displayed, and generate VHDL instead of Verilog code:\n"
      ]
    },
    {
      "cell_type": "code",
      "execution_count": null,
      "metadata": {
        "id": "UIhunKOUsHdv",
        "vscode": {
          "languageId": "python"
        }
      },
      "outputs": [],
      "source": [
        "!bambu icrc.c --top-fname=icrc1"
      ]
    },
    {
      "cell_type": "markdown",
      "metadata": {
        "id": "XyjNAbbJsHdv"
      },
      "source": [
        "## **Exercise 2**\n",
        "\n",
        "We remain on the same input C code as before, let's add co-simulation:\n"
      ]
    },
    {
      "cell_type": "code",
      "execution_count": null,
      "metadata": {
        "id": "1tXkks-zsHdv",
        "vscode": {
          "languageId": "python"
        }
      },
      "outputs": [],
      "source": [
        "%cd /content/bambu-tutorial/01-introduction/Exercise1\n",
        "!bambu icrc.c --top-fname=icrc1 --simulate --simulator=VERILATOR"
      ]
    },
    {
      "cell_type": "markdown",
      "metadata": {
        "id": "FiuHG1vcsHdv"
      },
      "source": [
        "We did not specify any input values. Inspect what Bambu generated automatically:"
      ]
    },
    {
      "cell_type": "code",
      "execution_count": null,
      "metadata": {
        "id": "ZCYbQ0z5sHdv",
        "vscode": {
          "languageId": "python"
        }
      },
      "outputs": [],
      "source": [
        "!cat test.xml"
      ]
    },
    {
      "cell_type": "markdown",
      "metadata": {
        "id": "_CbBxxZOsHdv"
      },
      "source": [
        "You can find the actual testbench in HLS_output/simulation."
      ]
    },
    {
      "cell_type": "markdown",
      "metadata": {
        "id": "02Md4L-xsHdv"
      },
      "source": [
        "## **Exercise 3**\n",
        "\n",
        "Implement and synthesize a module that returns the minimum and maximum value in an array of integers with arbitrary size.\n",
        "\n",
        "Write the input C code starting from this snippet:"
      ]
    },
    {
      "cell_type": "code",
      "execution_count": null,
      "metadata": {
        "id": "jdKjGqvbsHdw",
        "vscode": {
          "languageId": "python"
        }
      },
      "outputs": [],
      "source": [
        "%%writefile /content/bambu-tutorial/01-introduction/Exercise2/minmax.c\n",
        "void min_max(int * input, int num_elements, int * max, int * min)\n",
        "{\n",
        "   int local_max = input[0];\n",
        "   int local_min = input[0];\n",
        "   int i = 0;\n",
        "   for(i = 0; i < num_elements; i++)\n",
        "   {\n",
        "      if(input[i] > local_max)\n",
        "      {\n",
        "         local_max = input[i];\n",
        "      }\n",
        "      else if(input[i] < local_min)\n",
        "      {\n",
        "         local_min = input[i];\n",
        "      }\n",
        "   }\n",
        "   *min = local_min;\n",
        "   *max = local_max;\n",
        "}"
      ]
    },
    {
      "cell_type": "markdown",
      "metadata": {
        "id": "pw4QNycjsHdw"
      },
      "source": [
        "Write a testbench to test arrays with different elements and different sizes.\n",
        "\n",
        "Start from the XML snippet below **(parameter names need to correspond to function arguments in your code)**:"
      ]
    },
    {
      "cell_type": "code",
      "execution_count": null,
      "metadata": {
        "id": "UHmgKXMcsHdw",
        "vscode": {
          "languageId": "python"
        }
      },
      "outputs": [],
      "source": [
        "%%writefile /content/bambu-tutorial/01-introduction/Exercise2/testbench.xml\n",
        "<?xml version=\"1.0\"?>\n",
        "<function>\n",
        "   <testbench input=\"{0,1,2,3,4}\" num_elements=\"5\" max=\"{0}\" min=\"{0}\"/>\n",
        "   <testbench input=\"{0,1,2,3,4,5,6,7,8,9}\" num_elements=\"10\" max=\"{0}\" min=\"{0}\"/>\n",
        "   <testbench input=\"{0,0,0,0,0,0,0,0,0,0}\" num_elements=\"10\" max=\"{0}\" min=\"{0}\"/>\n",
        "   <testbench input=\"{0}\" num_elements=\"1\" max=\"{0}\" min=\"{0}\"/>\n",
        "</function>"
      ]
    },
    {
      "cell_type": "markdown",
      "metadata": {
        "id": "rVvJKylmsHdw"
      },
      "source": [
        "Synthesize with Bambu and simulate with Verilator **(double check the command line if you changed file/function names)**:"
      ]
    },
    {
      "cell_type": "code",
      "execution_count": null,
      "metadata": {
        "id": "Qfr5Ef1gsHdw",
        "vscode": {
          "languageId": "python"
        }
      },
      "outputs": [],
      "source": [
        "%cd /content/bambu-tutorial/01-introduction/Exercise2/\n",
        "!bambu minmax.c --top-fname=min_max --generate-tb=testbench.xml --simulate --simulator=VERILATOR"
      ]
    },
    {
      "cell_type": "markdown",
      "metadata": {
        "id": "o_xSBfNWsHdw"
      },
      "source": [
        "What happens if you pass an array with a different number of elements than what is specified in num_elements? **(remember to fix the XML file afterwards, we will need it again)**"
      ]
    },
    {
      "cell_type": "markdown",
      "metadata": {
        "id": "8TvBRWW_sHdw"
      },
      "source": [
        "## **Exercise 4**\n",
        "\n",
        "Bambu can synthesize accelerators described in an LLVM IR through the Clang frontend.\n",
        "\n",
        "Synthesize /content/bambu-tutorial/01-introduction/Exercise3/matmul.ll, which contains a matrix multiplication kernel generated by [soda-opt](https://gitlab.pnnl.gov/sodalite/soda-opt):"
      ]
    },
    {
      "cell_type": "code",
      "execution_count": null,
      "metadata": {
        "id": "sNu7dCgysHdw",
        "vscode": {
          "languageId": "python"
        }
      },
      "outputs": [],
      "source": [
        "%cd /content/bambu-tutorial/01-introduction/Exercise3/\n",
        "!bambu matmul.ll --top-fname=main_kernel --generate-tb=test.xml --simulate --simulator=VERILATOR --compiler=I386_CLANG13"
      ]
    },
    {
      "cell_type": "markdown",
      "metadata": {
        "id": "5sT3eHHqsHdx"
      },
      "source": [
        "Note: kernels generated by soda-opt require at least Clang 10."
      ]
    },
    {
      "cell_type": "markdown",
      "metadata": {
        "id": "iRM5TtHOsHdx"
      },
      "source": [
        "## **Exercise 5**\n",
        "\n",
        "Let's go back to the C code that finds minumim and maximum in an array of numbers, and compare performance across different target platforms and frequencies.\n",
        "\n",
        "Start from the given command and modify the options appropriately to test the following combinations:\n",
        "\n",
        "\n",
        "*   xc4vlx100-10ff1513 (Xilinx Virtex 4) – 66MHz\n",
        "*   5SGXEA7N2F45C1 (Intel Stratix V) – 200MHz\n",
        "*   xc7vx690t-3ffg1930-VVD (Xilinx Virtex 7) – 100MHz\n",
        "*   xc7vx690t-3ffg1930-VVD (Xilinx Virtex 7) – 333MHz\n",
        "*   xc7vx690t-3ffg1930-VVD (Xilinx Virtex 7) – 400MHz\n",
        "*   nangate45 (45nm ASIC) – 200MHz\n",
        "\n"
      ]
    },
    {
      "cell_type": "code",
      "execution_count": null,
      "metadata": {
        "id": "r_t3gtOHsHdx",
        "vscode": {
          "languageId": "python"
        }
      },
      "outputs": [],
      "source": [
        "%cd /content/bambu-tutorial/01-introduction/Exercise2\n",
        "!bambu minmax.c --top-fname=min_max --device-name=xc4vlx100-10ff1513 --clock-period=15 --simulate --simulator=VERILATOR --generate-tb=testbench.xml"
      ]
    },
    {
      "cell_type": "markdown",
      "metadata": {
        "id": "bGjKVvqgsHdx"
      },
      "source": [
        "Look also at the different simulation and synthesis scripts generated by Bambu."
      ]
    },
    {
      "cell_type": "markdown",
      "metadata": {
        "id": "SzhKnRb0sHdx"
      },
      "source": [
        "## **Exercise 6**\n",
        "\n",
        "Ask Bambu to print a C verion of its internal IR and all relevant graphs:"
      ]
    },
    {
      "cell_type": "code",
      "execution_count": null,
      "metadata": {
        "id": "Ke1n5vMpsHdx",
        "vscode": {
          "languageId": "python"
        }
      },
      "outputs": [],
      "source": [
        "!bambu minmax.c --top-fname=min_max --pretty-print=out.c --print-dot"
      ]
    },
    {
      "cell_type": "markdown",
      "metadata": {
        "id": "bNv4HiFHsHdx"
      },
      "source": [
        "Look at /content/bambu-tutorial/01-introduction/Exercise2/out.c and then print the FSM graph:"
      ]
    },
    {
      "cell_type": "code",
      "execution_count": null,
      "metadata": {
        "id": "6nBAO9ARsHdy",
        "vscode": {
          "languageId": "python"
        }
      },
      "outputs": [],
      "source": [
        "from graphviz import Source\n",
        "Source.from_file('HLS_output/dot/min_max/fsm.dot')"
      ]
    },
    {
      "cell_type": "markdown",
      "metadata": {
        "id": "9M1wIWUfsHdy"
      },
      "source": [
        "## **Exercise 7**\n",
        "\n",
        "Bambu automatically enables the synthesis of function proxies to save area.\n",
        "\n",
        "Synthesize the dummy example in /content/bambu-tutorial/01-introduction/Exercise4/proxies.c, and then look for the PROXY_PREF_funcC module in the generated Verilog:\n"
      ]
    },
    {
      "cell_type": "code",
      "execution_count": null,
      "metadata": {
        "id": "pB0TePmnsHdy",
        "vscode": {
          "languageId": "python"
        }
      },
      "outputs": [],
      "source": [
        "%cd /content/bambu-tutorial/01-introduction/Exercise4/\n",
        "!bambu proxies.c --top-fname=funcA"
      ]
    },
    {
      "cell_type": "markdown",
      "metadata": {
        "id": "jtqdk11QsHdy"
      },
      "source": [
        "Floating point operations are synthesized as functions. Check the number of cycles we found earlier for the matrix multiplication:"
      ]
    },
    {
      "cell_type": "code",
      "execution_count": null,
      "metadata": {
        "id": "bhsFsOjzsHdy",
        "vscode": {
          "languageId": "python"
        }
      },
      "outputs": [],
      "source": [
        "%cd /content/bambu-tutorial/01-introduction/Exercise3/\n",
        "!cat bambu_results_0.xml"
      ]
    },
    {
      "cell_type": "markdown",
      "metadata": {
        "id": "GcNK80PDsHdy"
      },
      "source": [
        "Run the same synthesis disabling function proxies:"
      ]
    },
    {
      "cell_type": "code",
      "execution_count": null,
      "metadata": {
        "id": "_-4LkicUsHdy",
        "vscode": {
          "languageId": "python"
        }
      },
      "outputs": [],
      "source": [
        "!bambu matmul.ll --top-fname=main_kernel --generate-tb=test.xml --simulate --simulator=VERILATOR --compiler=I386_CLANG13 --disable-function-proxy"
      ]
    },
    {
      "cell_type": "markdown",
      "metadata": {
        "id": "NKH7rLb8fgk7"
      },
      "source": [
        "## **Exercise 8**\n",
        "Generate an accelerator with outer loop vectorization, try different vector sizes (-fopenmp-simd) and see how performance changes."
      ]
    },
    {
      "cell_type": "code",
      "execution_count": null,
      "metadata": {
        "id": "eVwdHQtJsHd1",
        "vscode": {
          "languageId": "python"
        }
      },
      "outputs": [],
      "source": [
        "%cd /content/bambu-tutorial/04-simd/Exercise1/\n",
        "!bambu --compiler=I386_GCC49 --device-name=5SGXEA7N2F45C1 --simulate -fwhole-program -fno-delete-null-pointer-checks --clock-period=10 --experimental-setup=BAMBU-BALANCED-MP -fdisable-tree-cunroll -fdisable-tree-ivopts --param max-inline-insns-auto=1000 histogram.c -fopenmp-simd=1"
      ]
    },
    {
      "cell_type": "markdown",
      "metadata": {
        "id": "bSzHcRTzsHd1"
      },
      "source": [
        "## **Other examples**\n",
        "\n",
        "You can play around with a set of other examples that contain different applications and showcase different features of Bambu.\n",
        "\n",
        " - /content/bambu-tutorial/01-introduction/Exercise5: LU decomposition\n",
        " - /content/bambu-tutorial/01-introduction/Exercise6: integration of IPs written in Verilog\n",
        " - /content/bambu-tutorial/01-introduction/Exercise7: sorting algorithm\n",
        " - /content/bambu-tutorial/01-introduction/Exercise8: cryptographic core\n",
        " - /content/bambu-tutorial/01-introduction/Exercise9: search and insertion in a binary tree\n"
      ]
    },
    {
      "cell_type": "markdown",
      "metadata": {
        "id": "IlQDB6nqHqz0"
      },
      "source": [
        "# **Optimizations**\n"
      ]
    },
    {
      "cell_type": "markdown",
      "metadata": {
        "id": "dWWTy4TGZLfk"
      },
      "source": [
        "## **Exercise 1**\n",
        "\n",
        "Modify Bambu options to evaluate the effect of:\n",
        "\n",
        "\n",
        "*   different levels of optimization (-O0, -O1, -O2, -O3, -Os)\n",
        "*   vectorization (-ftree-vectorize)\n",
        "*   inlining (-finline-limit=100000)\n",
        "*   different frontend compilers (--compiler={I386_GCC49|I386_GCC7|I386_CLANG12|I386_CLANG13})\n",
        "\n",
        "#### **ADPCM from CHStone benchmark suite**\n",
        "Adaptive Diferential Pulse-Code Modulation is an algorithm used to perform audio compression (mainly in telephony). It is part of the CHStone benchmark suite for C-based HLS tools.\n",
        "* Yuko Hara, Hiroyuki Tomiyama, Shinya Honda and Hiroaki Takada, \"Proposal and Quantitative Analysis of the CHStone Benchmark Program Suite for Practical C-based High-level Synthesis\", *Journal of Information Processing*, Vol. 17, pp.242-254, (2009)."
      ]
    },
    {
      "cell_type": "code",
      "execution_count": null,
      "metadata": {
        "id": "YOXiFqzSIDR9",
        "vscode": {
          "languageId": "python"
        }
      },
      "outputs": [],
      "source": [
        "%cd /content/bambu-tutorial/03-optimizations/Exercise1/\n",
        "!bambu adpcm.c -O0 --simulate"
      ]
    },
    {
      "cell_type": "markdown",
      "metadata": {
        "id": "mJOV50V4IiE2"
      },
      "source": [
        "## **Exercise 2**\n",
        "\n",
        "Use the command that yielded the best result in Exercise 1 and verify if SDC scheduling can introduce further improvements.\n",
        "\n",
        "* -s or --speculative-sdc-scheduling"
      ]
    },
    {
      "cell_type": "code",
      "execution_count": null,
      "metadata": {
        "id": "Qi_ZpIr1IzZ7",
        "vscode": {
          "languageId": "python"
        }
      },
      "outputs": [],
      "source": [
        "%cd /content/bambu-tutorial/03-optimizations/Exercise1/\n",
        "!bambu adpcm.c -O0 --simulate"
      ]
    },
    {
      "cell_type": "markdown",
      "metadata": {
        "id": "StGBkKaJJEfr"
      },
      "source": [
        "## **Exercise 3**\n",
        "\n",
        "Modify Bambu options to evaluate the effect of different integer division implementations.\n",
        "\n",
        "--hls-div=<method\\>\n",
        "* none  - use a HDL based pipelined restoring division\n",
        "* nr1   - use a C-based non-restoring division with unrolling factor equal to 1 (default)\n",
        "* nr2   - use a C-based non-restoring division with unrolling factor equal to 2\n",
        "* NR    - use a C-based Newton-Raphson division\n",
        "* as    - use a C-based align divisor shift dividend method\n",
        "\n",
        "#### **FPDiv from CHStone**\n",
        "Soft floating-point division implementation from the CHStone benchmark suite for C-based HLS.\n",
        "* Yuko Hara, Hiroyuki Tomiyama, Shinya Honda and Hiroaki Takada, \"Proposal and Quantitative Analysis of the CHStone Benchmark Program Suite for Practical C-based High-level Synthesis\", *Journal of Information Processing*, Vol. 17, pp.242-254, (2009).\n"
      ]
    },
    {
      "cell_type": "code",
      "execution_count": null,
      "metadata": {
        "id": "bnEJ4nwuJLfo",
        "vscode": {
          "languageId": "python"
        }
      },
      "outputs": [],
      "source": [
        "%cd /content/bambu-tutorial/03-optimizations/Exercise3/\n",
        "!bambu dfdiv.c --simulate --clock-period=15 --hls-div=none"
      ]
    },
    {
      "cell_type": "markdown",
      "metadata": {
        "id": "YSRwNv1o2Jqx"
      },
      "source": [
        "## **Exercise 4**\n",
        "\n",
        "Write C implementation that compute the following function:\n",
        "\n",
        "# $awesome\\_math(a,b,c) = acos(\\frac{a^2+b^2-c^2}{2ab})$\n",
        "\n",
        "Experiment with single and double precision data types, different softfloat and libm implementations offered by bambu.\n",
        "\n",
        "Start by editing this code and then try different bambu options:\n",
        "* Different floating-point arithmetic implementations (--softfloat, --soft-fp, --flopoco)\n",
        "* Different libm implementations (--libm-std-rounding)\n",
        "* Different square implementation (pow, simple multiplication)"
      ]
    },
    {
      "cell_type": "code",
      "execution_count": null,
      "metadata": {
        "id": "LuhiArbj6XnA",
        "vscode": {
          "languageId": "python"
        }
      },
      "outputs": [],
      "source": [
        "%%writefile /content/bambu-tutorial/03-optimizations/Exercise4/module.c\n",
        "#include <math.h>\n",
        "float awesome_math(float a, float b, float c)\n",
        "{\n",
        "   return acosf((powf(a,2) + powf(b,2) - powf(c,2))/(2*a*b));\n",
        "}"
      ]
    },
    {
      "cell_type": "code",
      "execution_count": null,
      "metadata": {
        "id": "_Rg4Gthy2vDm",
        "vscode": {
          "languageId": "python"
        }
      },
      "outputs": [],
      "source": [
        "%cd /content/bambu-tutorial/03-optimizations/Exercise4/\n",
        "!bambu module.c -O3 -lm --simulate --top-fname=awesome_math --generate-tb=\"a=3.0,b=4.0,c=5.0\" --speculative-sdc-scheduling --libm-std-rounding --hls-div=none --soft-float"
      ]
    },
    {
      "cell_type": "markdown",
      "metadata": {
        "id": "dqYtjGVigqpp"
      },
      "source": [
        "# **Context switching**"
      ]
    },
    {
      "cell_type": "markdown",
      "metadata": {
        "id": "gryqeIGXiRS0"
      },
      "source": [
        "## **Exercise 1**\n",
        "Create a sequential accelerator for the LUBM-t4 benchmark.\n",
        "\n",
        "Edit /common/bambu-tutorial/05-context-switch/Exercise1/bambu.sh as follows:\n",
        "\n",
        "\n",
        "*   set `search` as top function\n",
        "*   specify that all memories need to be allocated outside the accelerator\n",
        "*   set the external memory latency to 20 for both read and write\n",
        "*   add the `test-1.xml` testbench for simulation\n",
        "\n",
        "Hint: you can find out all Bambu options by running `bambu --help`."
      ]
    },
    {
      "cell_type": "code",
      "execution_count": null,
      "metadata": {
        "id": "B-9M47ZxHkui",
        "vscode": {
          "languageId": "python"
        }
      },
      "outputs": [],
      "source": [
        "%cd /content/bambu-tutorial/05-context-switch/Exercise1/\n",
        "!./bambu.sh"
      ]
    },
    {
      "cell_type": "markdown",
      "metadata": {
        "id": "enf-YqUHIK_V"
      },
      "source": [
        "## **Exercise 2**\n",
        "Create a parallel accelerator without context switching.\n",
        "\n",
        "Edit the script with Bambu options as follows:\n",
        "\n",
        "*   specify that 2 copies of the kernel need to be synthesized\n",
        "*   select 4 external memory banks with 2 channels\n",
        "*   disable context switching by setting the correspondent option to 1\n"
      ]
    },
    {
      "cell_type": "code",
      "execution_count": null,
      "metadata": {
        "id": "52HsQm4KaPiH",
        "vscode": {
          "languageId": "python"
        }
      },
      "outputs": [],
      "source": [
        "!./bambu.sh"
      ]
    },
    {
      "cell_type": "markdown",
      "metadata": {
        "id": "b2lheBF0azgJ"
      },
      "source": [
        "## **Exercise 3**\n",
        "Introduce context switching.\n",
        "\n",
        "Keep all options as before, but set 4 logic threads per kernel."
      ]
    },
    {
      "cell_type": "code",
      "execution_count": null,
      "metadata": {
        "id": "rzWIDXyAbVO8",
        "vscode": {
          "languageId": "python"
        }
      },
      "outputs": [],
      "source": [
        "!./bambu.sh"
      ]
    },
    {
      "cell_type": "markdown",
      "metadata": {
        "id": "FiiteRZ5ba6x"
      },
      "source": [
        "## **Exercise 4**\n",
        "Explore different configurations.\n",
        "\n",
        "Change the number of contexts, memory banks and memory channels to find a better solution."
      ]
    },
    {
      "cell_type": "code",
      "execution_count": null,
      "metadata": {
        "id": "lU-kWtVEbZFY",
        "vscode": {
          "languageId": "python"
        }
      },
      "outputs": [],
      "source": [
        "!./bambu.sh"
      ]
    }
  ],
  "metadata": {
    "colab": {
      "name": "bambu.ipynb",
      "provenance": []
    },
    "kernelspec": {
      "display_name": "Python 3",
      "language": "python",
      "name": "python3"
    }
  },
  "nbformat": 4,
  "nbformat_minor": 0
}